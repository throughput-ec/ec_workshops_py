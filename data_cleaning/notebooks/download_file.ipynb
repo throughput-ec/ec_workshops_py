{
 "cells": [
  {
   "cell_type": "markdown",
   "id": "14cd0632-1161-46c4-928d-7e6324814180",
   "metadata": {},
   "source": [
    "# find taxa\n",
    "\n",
    "1. Enter the taxa that you want to search for.\n",
    "2. Run the first three cells (Shift + Enter), until you see a map.\n",
    "3. Zoom in and out of map using '+' or '-' to select the locations you would like to download.\n",
    "4. Run the last two cells to create a csv of the selected taxa and locations. \n",
    "5. Click the \"Download eodp.csv\" link to download the csv\n"
   ]
  },
  {
   "cell_type": "code",
   "execution_count": null,
   "id": "b3fca80c-9dd7-47b4-800b-18307bf326e9",
   "metadata": {},
   "outputs": [],
   "source": [
    "search_terms = ['Globorotalia']\n"
   ]
  },
  {
   "cell_type": "code",
   "execution_count": null,
   "id": "6f6466b8-a130-4228-9dab-9ca8b71e2180",
   "metadata": {},
   "outputs": [],
   "source": [
    "from datetime import date\n",
    "from pathlib import Path \n",
    "\n",
    "import sys\n",
    "sys.path.append(str(Path.cwd().parent))\n",
    "\n",
    "from scripts.normalize_data import print_df\n",
    "from scripts.search_files import (\n",
    "    get_matching_taxa, search_for_taxa_in_all_files, draw_map,\n",
    "    filter_samples_by_bounding_box, DownloadFileLink,\n",
    "    display_search_results\n",
    ")\n",
    "\n",
    "paths = list(Path('..', 'processed_data', 'clean_data').rglob('*.csv'))\n",
    "\n",
    "hole_path = Path('..', 'processed_data', 'Hole Summary_23_2_2021.csv')\n",
    "taxa_search_path = Path('..', 'processed_data', 'taxa_list_search.csv')\n",
    "nontaxa_list_path = Path('..', 'processed_data', 'normalized_nontaxa_list.csv')"
   ]
  },
  {
   "cell_type": "code",
   "execution_count": null,
   "id": "9efa387f-8249-47af-94c7-6fe21d9a6baa",
   "metadata": {},
   "outputs": [],
   "source": [
    "taxa_matches = get_matching_taxa(search_terms)\n",
    "\n",
    "search_df = search_for_taxa_in_all_files(taxa_matches)\n",
    "map_df = search_df.drop_duplicates(subset=['Exp', 'Site', 'Hole'])\n",
    "\n",
    "print(f'{len(search_df)} samples, {len(map_df)} holes')\n",
    "\n",
    "for taxon in taxa_matches:\n",
    "    print(taxon)\n",
    "    \n",
    "my_map = draw_map(map_df)\n",
    "my_map"
   ]
  },
  {
   "cell_type": "code",
   "execution_count": null,
   "id": "b04baef5-bddd-491b-86af-1f7299727bb6",
   "metadata": {},
   "outputs": [],
   "source": [
    "filter_df = filter_samples_by_bounding_box(my_map, search_df, map_df)\n",
    "print(f'{len(filter_df)} samples, {len(filter_df[\"geometry\"].unique())} holes')\n",
    "\n",
    "filter_df.head()"
   ]
  },
  {
   "cell_type": "code",
   "execution_count": null,
   "id": "584d2715-7383-4f6b-8c27-9b18a33f6449",
   "metadata": {},
   "outputs": [],
   "source": [
    "file = 'eodp_data.csv'\n",
    "filter_df.to_csv(file, index=False)\n",
    "\n",
    "DownloadFileLink(file, f'Download {file}')\n"
   ]
  },
  {
   "cell_type": "code",
   "execution_count": null,
   "id": "65bec924-154f-4f57-ac34-245bb222290e",
   "metadata": {},
   "outputs": [],
   "source": []
  }
 ],
 "metadata": {
  "kernelspec": {
   "display_name": "Python 3 (ipykernel)",
   "language": "python",
   "name": "python3"
  },
  "language_info": {
   "codemirror_mode": {
    "name": "ipython",
    "version": 3
   },
   "file_extension": ".py",
   "mimetype": "text/x-python",
   "name": "python",
   "nbconvert_exporter": "python",
   "pygments_lexer": "ipython3",
   "version": "3.10.2"
  }
 },
 "nbformat": 4,
 "nbformat_minor": 5
}
