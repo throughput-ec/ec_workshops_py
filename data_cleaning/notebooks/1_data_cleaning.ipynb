{
 "cells": [
  {
   "cell_type": "markdown",
   "id": "431ec010-bb64-4385-ae67-21dd6727a0cc",
   "metadata": {},
   "source": [
    "# Data Cleaning with Pandas and Jupyter Notebooks"
   ]
  },
  {
   "cell_type": "markdown",
   "id": "0d6a6d29-57f3-449a-a864-ae75faad6f88",
   "metadata": {},
   "source": [
    "import needed packages\n",
    "\n",
    "[pathlib](https://docs.python.org/3/library/pathlib.html) - Python module to handle file system paths"
   ]
  },
  {
   "cell_type": "code",
   "execution_count": 1,
   "id": "a889da19-b8ff-4f06-a2ae-f9a4ce26eb21",
   "metadata": {},
   "outputs": [],
   "source": [
    "import pandas as pd\n",
    "from datetime import date\n",
    "from pathlib import Path "
   ]
  },
  {
   "cell_type": "markdown",
   "id": "4c48aee3-eb7b-4d80-bc9d-5f116e595ad1",
   "metadata": {},
   "source": [
    "add parent directory to system paths so notebook can see scripts directory\n",
    "https://stackoverflow.com/a/64562179"
   ]
  },
  {
   "cell_type": "code",
   "execution_count": 2,
   "id": "599d94d9-381f-44db-9c1a-261f3ec48082",
   "metadata": {},
   "outputs": [],
   "source": [
    "import sys\n",
    "sys.path.append(str(Path.cwd().parent))\n",
    "\n",
    "from scripts.normalize_data import (\n",
    "    normalize_columns, \n",
    "    remove_whitespace_from_column_names,\n",
    "    normalize_expedition_section_cols,\n",
    "    remove_bracket_text,\n",
    "    remove_whitespace_from_dataframe,\n",
    "    ddm2dec,\n",
    "    remove_empty_unnamed_columns,\n",
    "    print_df\n",
    ")"
   ]
  },
  {
   "cell_type": "markdown",
   "id": "de3bf7d4-1457-4ca9-b088-78c691eb38e7",
   "metadata": {},
   "source": [
    "## get paths for files"
   ]
  },
  {
   "cell_type": "markdown",
   "id": "c4010f87-3c43-47dc-894e-9ffd50758184",
   "metadata": {},
   "source": [
    "Use Path and rglob to get all the cvs in `data_clean` directory."
   ]
  },
  {
   "cell_type": "code",
   "execution_count": 3,
   "id": "38dd3712-9a11-4f43-90af-feabbe8c5b77",
   "metadata": {},
   "outputs": [
    {
     "data": {
      "text/plain": [
       "[PosixPath('../processed_data/clean_data/Micropal_CSV_1/318_U1355A_Planktic_Forams.csv'),\n",
       " PosixPath('../processed_data/clean_data/Micropal_CSV_1/363-U1483A-planktic_forams.csv'),\n",
       " PosixPath('../processed_data/clean_data/Micropal_CSV_1/318_U1359A_Planktic_Forams.csv'),\n",
       " PosixPath('../processed_data/clean_data/Micropal_CSV_1/318_U1359D_Planktic_Forams.csv'),\n",
       " PosixPath('../processed_data/clean_data/Micropal_CSV_2/362_U1480E_planktic_forams.csv'),\n",
       " PosixPath('../processed_data/clean_data/Micropal_CSV_2/350_U1436B_planktic_forams.csv'),\n",
       " PosixPath('../processed_data/clean_data/Micropal_CSV_2/346_U1422A_planktic_forams.csv'),\n",
       " PosixPath('../processed_data/clean_data/Micropal_CSV_3/339_planktic_forams_U1387C.csv'),\n",
       " PosixPath('../processed_data/clean_data/Micropal_CSV_3/323_U1343B_planktic_forams.csv'),\n",
       " PosixPath('../processed_data/clean_data/Micropal_CSV_3/330_planktic_forams_U1374A.csv')]"
      ]
     },
     "execution_count": 3,
     "metadata": {},
     "output_type": "execute_result"
    }
   ],
   "source": [
    "paths = list(Path('..', 'processed_data', 'clean_data').rglob('*.csv'))\n",
    "paths"
   ]
  },
  {
   "cell_type": "code",
   "execution_count": 4,
   "id": "6a3be3e0-b7c1-4074-b632-91f55e2a651e",
   "metadata": {},
   "outputs": [
    {
     "data": {
      "text/plain": [
       "10"
      ]
     },
     "execution_count": 4,
     "metadata": {},
     "output_type": "execute_result"
    }
   ],
   "source": [
    "len(paths)"
   ]
  },
  {
   "cell_type": "markdown",
   "id": "f8a1fc0d-9b81-45bd-afa3-73fe451e2a4e",
   "metadata": {},
   "source": [
    "## Read file"
   ]
  },
  {
   "cell_type": "markdown",
   "id": "b7517124-042d-4288-a932-cf1d121741a0",
   "metadata": {},
   "source": [
    "Use `pd.read_csv(dtype=str)` to read csv and treat all columns as strings. If you just use `pd.read_csv(path)`print_df(df, 1), pandas will automatically convert the columns to strings, integers, floats, dates. This automatic conversion can change values in unexpected ways such as converting integer columns into floats. "
   ]
  },
  {
   "cell_type": "code",
   "execution_count": 5,
   "id": "88ad322d-fd57-435b-8783-cb7eb0a19491",
   "metadata": {},
   "outputs": [],
   "source": [
    "df = pd.read_csv(paths[1], dtype=str)"
   ]
  },
  {
   "cell_type": "markdown",
   "id": "31a56c9a-7768-4b45-91be-5c9dd83e0601",
   "metadata": {},
   "source": [
    "`print_df` calls `pd.DataFrame.shape` and `pd.DataFrame.head()`"
   ]
  },
  {
   "cell_type": "code",
   "execution_count": 6,
   "id": "5d17d3aa-ca61-4306-bf05-572e6b142b1c",
   "metadata": {},
   "outputs": [
    {
     "name": "stdout",
     "output_type": "stream",
     "text": [
      "(123, 229)\n"
     ]
    },
    {
     "data": {
      "text/html": [
       "<div>\n",
       "<style scoped>\n",
       "    .dataframe tbody tr th:only-of-type {\n",
       "        vertical-align: middle;\n",
       "    }\n",
       "\n",
       "    .dataframe tbody tr th {\n",
       "        vertical-align: top;\n",
       "    }\n",
       "\n",
       "    .dataframe thead th {\n",
       "        text-align: right;\n",
       "    }\n",
       "</style>\n",
       "<table border=\"1\" class=\"dataframe\">\n",
       "  <thead>\n",
       "    <tr style=\"text-align: right;\">\n",
       "      <th></th>\n",
       "      <th>Sample</th>\n",
       "      <th>Top [cm]</th>\n",
       "      <th>Bottom [cm]</th>\n",
       "      <th>Top Depth [m]</th>\n",
       "      <th>Bottom Depth [m]</th>\n",
       "      <th>Zone name (short)</th>\n",
       "      <th>Zone name</th>\n",
       "      <th>Additional zone name (short)</th>\n",
       "      <th>Additional zone name</th>\n",
       "      <th>Preservation</th>\n",
       "      <th>...</th>\n",
       "      <th>Cassigerinella martinezpicoi</th>\n",
       "      <th>Catapsydrax dissimilis</th>\n",
       "      <th>Catapsydrax unicavus_</th>\n",
       "      <th>Globigerinatella insueta</th>\n",
       "      <th>Globigerinatella sp.</th>\n",
       "      <th>Turborotalita clarkei</th>\n",
       "      <th>Sample comment</th>\n",
       "      <th>Ship File Links</th>\n",
       "      <th>Shore File Links</th>\n",
       "      <th>File Data</th>\n",
       "    </tr>\n",
       "  </thead>\n",
       "  <tbody>\n",
       "    <tr>\n",
       "      <th>0</th>\n",
       "      <td>363-U1483A-1H-2-W 75/77-FORAM</td>\n",
       "      <td>0</td>\n",
       "      <td>2</td>\n",
       "      <td>2.25</td>\n",
       "      <td>2.27</td>\n",
       "      <td>PT1b [W11]</td>\n",
       "      <td>Globorotalia truncatulinoides Partial-range Zo...</td>\n",
       "      <td>NaN</td>\n",
       "      <td>NaN</td>\n",
       "      <td>E [P46]</td>\n",
       "      <td>...</td>\n",
       "      <td>NaN</td>\n",
       "      <td>NaN</td>\n",
       "      <td>NaN</td>\n",
       "      <td>NaN</td>\n",
       "      <td>NaN</td>\n",
       "      <td>NaN</td>\n",
       "      <td>NaN</td>\n",
       "      <td>NaN</td>\n",
       "      <td>NaN</td>\n",
       "      <td>NaN</td>\n",
       "    </tr>\n",
       "    <tr>\n",
       "      <th>1</th>\n",
       "      <td>363-U1483A-1H-4-W 75/77-FORAM</td>\n",
       "      <td>0</td>\n",
       "      <td>2</td>\n",
       "      <td>5.25</td>\n",
       "      <td>5.27</td>\n",
       "      <td>PT1b [W11]</td>\n",
       "      <td>Globorotalia truncatulinoides Partial-range Zo...</td>\n",
       "      <td>NaN</td>\n",
       "      <td>NaN</td>\n",
       "      <td>E [P46]</td>\n",
       "      <td>...</td>\n",
       "      <td>NaN</td>\n",
       "      <td>NaN</td>\n",
       "      <td>NaN</td>\n",
       "      <td>NaN</td>\n",
       "      <td>NaN</td>\n",
       "      <td>NaN</td>\n",
       "      <td>NaN</td>\n",
       "      <td>NaN</td>\n",
       "      <td>NaN</td>\n",
       "      <td>NaN</td>\n",
       "    </tr>\n",
       "    <tr>\n",
       "      <th>2</th>\n",
       "      <td>363-U1483A-1H-6-W 75/77-FORAM</td>\n",
       "      <td>0</td>\n",
       "      <td>2</td>\n",
       "      <td>8.25</td>\n",
       "      <td>8.27</td>\n",
       "      <td>PT1b [W11]</td>\n",
       "      <td>Globorotalia truncatulinoides Partial-range Zo...</td>\n",
       "      <td>NaN</td>\n",
       "      <td>NaN</td>\n",
       "      <td>E [P46]</td>\n",
       "      <td>...</td>\n",
       "      <td>NaN</td>\n",
       "      <td>NaN</td>\n",
       "      <td>NaN</td>\n",
       "      <td>NaN</td>\n",
       "      <td>NaN</td>\n",
       "      <td>NaN</td>\n",
       "      <td>NaN</td>\n",
       "      <td>NaN</td>\n",
       "      <td>NaN</td>\n",
       "      <td>NaN</td>\n",
       "    </tr>\n",
       "    <tr>\n",
       "      <th>3</th>\n",
       "      <td>363-U1483A-1H-CC-PAL-FORAM</td>\n",
       "      <td>0</td>\n",
       "      <td>5</td>\n",
       "      <td>8.58</td>\n",
       "      <td>8.63</td>\n",
       "      <td>PT1b [W11]</td>\n",
       "      <td>Globorotalia truncatulinoides Partial-range Zo...</td>\n",
       "      <td>NaN</td>\n",
       "      <td>NaN</td>\n",
       "      <td>E [P46]</td>\n",
       "      <td>...</td>\n",
       "      <td>NaN</td>\n",
       "      <td>NaN</td>\n",
       "      <td>NaN</td>\n",
       "      <td>NaN</td>\n",
       "      <td>NaN</td>\n",
       "      <td>NaN</td>\n",
       "      <td>Contains radiolaria</td>\n",
       "      <td>NaN</td>\n",
       "      <td>NaN</td>\n",
       "      <td>NaN</td>\n",
       "    </tr>\n",
       "    <tr>\n",
       "      <th>4</th>\n",
       "      <td>363-U1483A-2H-2-W 74/76-FORAM</td>\n",
       "      <td>0</td>\n",
       "      <td>2</td>\n",
       "      <td>10.84</td>\n",
       "      <td>10.86</td>\n",
       "      <td>PT1b [W11]</td>\n",
       "      <td>Globorotalia truncatulinoides Partial-range Zo...</td>\n",
       "      <td>NaN</td>\n",
       "      <td>NaN</td>\n",
       "      <td>E [P46]</td>\n",
       "      <td>...</td>\n",
       "      <td>NaN</td>\n",
       "      <td>NaN</td>\n",
       "      <td>NaN</td>\n",
       "      <td>NaN</td>\n",
       "      <td>NaN</td>\n",
       "      <td>NaN</td>\n",
       "      <td>NaN</td>\n",
       "      <td>NaN</td>\n",
       "      <td>NaN</td>\n",
       "      <td>NaN</td>\n",
       "    </tr>\n",
       "  </tbody>\n",
       "</table>\n",
       "<p>5 rows × 229 columns</p>\n",
       "</div>"
      ],
      "text/plain": [
       "                          Sample Top [cm] Bottom [cm] Top Depth [m]  \\\n",
       "0  363-U1483A-1H-2-W 75/77-FORAM        0           2          2.25   \n",
       "1  363-U1483A-1H-4-W 75/77-FORAM        0           2          5.25   \n",
       "2  363-U1483A-1H-6-W 75/77-FORAM        0           2          8.25   \n",
       "3     363-U1483A-1H-CC-PAL-FORAM        0           5          8.58   \n",
       "4  363-U1483A-2H-2-W 74/76-FORAM        0           2         10.84   \n",
       "\n",
       "  Bottom Depth [m] Zone name (short)  \\\n",
       "0             2.27        PT1b [W11]   \n",
       "1             5.27        PT1b [W11]   \n",
       "2             8.27        PT1b [W11]   \n",
       "3             8.63        PT1b [W11]   \n",
       "4            10.86        PT1b [W11]   \n",
       "\n",
       "                                           Zone name  \\\n",
       "0  Globorotalia truncatulinoides Partial-range Zo...   \n",
       "1  Globorotalia truncatulinoides Partial-range Zo...   \n",
       "2  Globorotalia truncatulinoides Partial-range Zo...   \n",
       "3  Globorotalia truncatulinoides Partial-range Zo...   \n",
       "4  Globorotalia truncatulinoides Partial-range Zo...   \n",
       "\n",
       "  Additional zone name (short) Additional zone name Preservation  ...  \\\n",
       "0                          NaN                  NaN      E [P46]  ...   \n",
       "1                          NaN                  NaN      E [P46]  ...   \n",
       "2                          NaN                  NaN      E [P46]  ...   \n",
       "3                          NaN                  NaN      E [P46]  ...   \n",
       "4                          NaN                  NaN      E [P46]  ...   \n",
       "\n",
       "  Cassigerinella martinezpicoi Catapsydrax dissimilis Catapsydrax unicavus_  \\\n",
       "0                          NaN                    NaN                   NaN   \n",
       "1                          NaN                    NaN                   NaN   \n",
       "2                          NaN                    NaN                   NaN   \n",
       "3                          NaN                    NaN                   NaN   \n",
       "4                          NaN                    NaN                   NaN   \n",
       "\n",
       "  Globigerinatella insueta Globigerinatella sp.  Turborotalita clarkei   \\\n",
       "0                      NaN                   NaN                    NaN   \n",
       "1                      NaN                   NaN                    NaN   \n",
       "2                      NaN                   NaN                    NaN   \n",
       "3                      NaN                   NaN                    NaN   \n",
       "4                      NaN                   NaN                    NaN   \n",
       "\n",
       "        Sample comment Ship File Links Shore File Links File Data  \n",
       "0                  NaN             NaN              NaN       NaN  \n",
       "1                  NaN             NaN              NaN       NaN  \n",
       "2                  NaN             NaN              NaN       NaN  \n",
       "3  Contains radiolaria             NaN              NaN       NaN  \n",
       "4                  NaN             NaN              NaN       NaN  \n",
       "\n",
       "[5 rows x 229 columns]"
      ]
     },
     "execution_count": 6,
     "metadata": {},
     "output_type": "execute_result"
    }
   ],
   "source": [
    "print_df(df)"
   ]
  },
  {
   "cell_type": "markdown",
   "id": "2c406300-17bc-4dcd-a8a2-a19c9102dbfc",
   "metadata": {},
   "source": [
    "## Basic file cleanup\n",
    "\n",
    "Use pandas functions do some basic file cleanup."
   ]
  },
  {
   "cell_type": "markdown",
   "id": "1c489129-d83d-4369-a618-0065e0ce9840",
   "metadata": {},
   "source": [
    "- delete dataframe column if all values are NA - [pandas.DataFrame.dropna](https://pandas.pydata.org/pandas-docs/stable/reference/api/pandas.DataFrame.dropna.html)\n",
    "\n",
    "  df.dropna(axis='columns', how='all', inplace=True)  \n",
    "\n",
    "\n",
    "- delete dataframe row if all values are NA - [pandas.DataFrame.dropna](https://pandas.pydata.org/pandas-docs/stable/reference/api/pandas.DataFrame.dropna.html)\n",
    "\n",
    "  df.dropna(axis='index', how='all', inplace=True)  \n",
    "\n",
    "- remove duplicate rows in dataframe - [pandas.DataFrame.drop_duplicates](https://pandas.pydata.org/pandas-docs/stable/reference/api/pandas.DataFrame.drop_duplicates.html)\n",
    "\n",
    "  df.drop_duplicates(inplace=True)"
   ]
  },
  {
   "cell_type": "markdown",
   "id": "9b940d45-f485-4a6c-90cd-4cd4ef0d6103",
   "metadata": {},
   "source": [
    "run basic cleanup on all files"
   ]
  },
  {
   "cell_type": "code",
   "execution_count": 7,
   "id": "b73d7d5a-5e0e-4e4a-91ee-14567087f93d",
   "metadata": {},
   "outputs": [],
   "source": [
    "for path in paths:\n",
    "    df = pd.read_csv(path, dtype=str, skipinitialspace = True)\n",
    "    \n",
    "    df.dropna(axis='columns', how='all', inplace=True)  \n",
    "    df.dropna(axis='index', how='all', inplace=True)\n",
    "    df.drop_duplicates(inplace=True)\n",
    "    # remove_empty_unnamed_columns(df)\n",
    "    \n",
    "    df.to_csv(path, index=False)"
   ]
  },
  {
   "cell_type": "markdown",
   "id": "7dca815b-ad25-4e9a-8636-b37505362bc3",
   "metadata": {},
   "source": [
    "You should `git commit` each cleanup step so you can undo changes if needed.\n",
    "\n",
    "```\n",
    "$ git add .\n",
    "$ git commit -m 'do basic file cleanup on all files'\n",
    "```"
   ]
  },
  {
   "cell_type": "markdown",
   "id": "8ad25d0a-71c0-4ad9-a2f5-8c732a3602c6",
   "metadata": {
    "tags": []
   },
   "source": [
    "## remove leading and trailing white spaces"
   ]
  },
  {
   "cell_type": "markdown",
   "id": "66d934a1-166a-4962-937e-68ecb5143495",
   "metadata": {},
   "source": [
    "Since we want to remove white spaces for the headers and all the rows, \n",
    "use read_csv(header=None) and to_csv(header=False) to treat the first row \n",
    "like any other row."
   ]
  },
  {
   "cell_type": "code",
   "execution_count": 8,
   "id": "ae3a6fc7-3b62-48d0-b59a-24336497151f",
   "metadata": {},
   "outputs": [],
   "source": [
    "for path in paths:\n",
    "    df = pd.read_csv(path, dtype=str, header=None)\n",
    "    \n",
    "    remove_whitespace_from_dataframe(df)\n",
    "    \n",
    "    df.to_csv(path, index=False, header=False)"
   ]
  },
  {
   "cell_type": "markdown",
   "id": "d0ae74e5-aa85-42f0-b12d-7c74a5d43926",
   "metadata": {},
   "source": [
    "## get columns names"
   ]
  },
  {
   "cell_type": "markdown",
   "id": "af916c7e-1240-4298-8abf-d2d9021d1584",
   "metadata": {},
   "source": [
    "get all unique column headers by reading the headers from all the files"
   ]
  },
  {
   "cell_type": "code",
   "execution_count": 9,
   "id": "b5dddc5d-8f34-4f98-8793-d46664159fb8",
   "metadata": {},
   "outputs": [
    {
     "data": {
      "text/plain": [
       "191"
      ]
     },
     "execution_count": 9,
     "metadata": {},
     "output_type": "execute_result"
    }
   ],
   "source": [
    "columns = set()\n",
    "for path in paths:\n",
    "    df = pd.read_csv(path, dtype=str, nrows=0)\n",
    "    columns.update(df.columns)\n",
    "    \n",
    "len(columns)\n",
    "\n",
    "# 493 with empty taxa columns\n",
    "# 191 without empty taxa columns"
   ]
  },
  {
   "cell_type": "code",
   "execution_count": 10,
   "id": "e7419cd3-8eee-4835-aefd-d581164f0f6b",
   "metadata": {},
   "outputs": [
    {
     "data": {
      "text/plain": [
       "{'A/W',\n",
       " 'Additional zone name',\n",
       " 'Additional zone name (short)',\n",
       " 'Beella digitata',\n",
       " 'Bottom Depth [m]',\n",
       " 'Bottom Depth[m] [m]',\n",
       " 'Bottom [cm]',\n",
       " 'Bottom depth [m]',\n",
       " 'Bottom[cm] [cm]',\n",
       " 'Candeina nitida',\n",
       " 'Comment',\n",
       " 'Comment (general)',\n",
       " 'Comments',\n",
       " 'Core',\n",
       " 'Core-Sect',\n",
       " 'Datum name',\n",
       " 'Dentoglobigerina altispira',\n",
       " 'Dentoglobigerina altispira _T_ _PL5',\n",
       " 'Dentoglobigerina altispira _T_ _PL5_',\n",
       " 'Dextral:Sinistral _P. obliquiloculata_',\n",
       " 'Dextral:Sinistral _P. praecursor_',\n",
       " 'Dextral:Sinistral _P. primalis_',\n",
       " 'Exp',\n",
       " 'Extra Sample ID Data',\n",
       " 'Fragmentation',\n",
       " 'Fragmentation rank [auto-pop]',\n",
       " 'Genus/species (upper zone)',\n",
       " 'Genus/species lower zone)',\n",
       " 'Globigerina apertura',\n",
       " 'Globigerina bulloides',\n",
       " 'Globigerina calida',\n",
       " 'Globigerina cf. woodi',\n",
       " 'Globigerina decoraperta',\n",
       " 'Globigerina falconensis',\n",
       " 'Globigerina nepenthes',\n",
       " 'Globigerinella aequilateralis',\n",
       " 'Globigerinella calida',\n",
       " 'Globigerinella calida _B',\n",
       " 'Globigerinella calida _B_',\n",
       " 'Globigerinella obesa',\n",
       " 'Globigerinella siphonifera',\n",
       " 'Globigerinita glutinata',\n",
       " 'Globigerinita parkerae',\n",
       " 'Globigerinita uvula',\n",
       " 'Globigerinoides bulloideus',\n",
       " 'Globigerinoides conglobatus',\n",
       " 'Globigerinoides extremus',\n",
       " 'Globigerinoides extremus _T and B',\n",
       " 'Globigerinoides extremus _T and B_',\n",
       " 'Globigerinoides fistulosus',\n",
       " 'Globigerinoides obliquus _T',\n",
       " 'Globigerinoides obliquus _T_',\n",
       " 'Globigerinoides quadrilobatus',\n",
       " 'Globigerinoides ruber',\n",
       " 'Globigerinoides ruber (pink)',\n",
       " 'Globigerinoides ruber (white)',\n",
       " 'Globigerinoides ruber _pink_ T',\n",
       " 'Globigerinoides ruber _pink_ _T_',\n",
       " 'Globigerinoides sacculifer',\n",
       " 'Globigerinoides sacculifer (without sack)',\n",
       " 'Globigerinoides tenellus',\n",
       " 'Globigerinoides trilobus',\n",
       " 'Globigerinoidesella fistulosa _T and B_ _Pt1a',\n",
       " 'Globigerinoidesella fistulosa _T and B_ _Pt1a_',\n",
       " 'Globoconella miozea',\n",
       " 'Globorotalia (Globoconella) inflata',\n",
       " 'Globorotalia (Globorotalia) tumida tumida',\n",
       " 'Globorotalia (Hirsutella) hirsuta',\n",
       " 'Globorotalia (Hirsutella) scitula',\n",
       " 'Globorotalia (Truncorotalia) crossaformis',\n",
       " 'Globorotalia (Truncorotalia) truncatulinoides',\n",
       " 'Globorotalia anfracta',\n",
       " 'Globorotalia cf. crassula',\n",
       " 'Globorotalia crassaformis',\n",
       " 'Globorotalia crassaformis s.l. (dex)',\n",
       " 'Globorotalia crassaformis s.l. (sin)',\n",
       " 'Globorotalia crassaformis sensu lato',\n",
       " 'Globorotalia flexuosa',\n",
       " 'Globorotalia flexuosa _T and B_',\n",
       " 'Globorotalia hessi',\n",
       " 'Globorotalia hessi _B_',\n",
       " 'Globorotalia hirsuta',\n",
       " 'Globorotalia hirsuta (dex)',\n",
       " 'Globorotalia hirsuta (sin)',\n",
       " 'Globorotalia inflata',\n",
       " 'Globorotalia limbata _B',\n",
       " 'Globorotalia limbata _B_',\n",
       " 'Globorotalia limbata _T_',\n",
       " 'Globorotalia margaritae',\n",
       " 'Globorotalia margaritae _T and B_ _PL3',\n",
       " 'Globorotalia margaritae _T and B_ _PL3_',\n",
       " 'Globorotalia menardii',\n",
       " 'Globorotalia menardii (dex)',\n",
       " 'Globorotalia menardii (sin)',\n",
       " 'Globorotalia miocenica',\n",
       " 'Globorotalia miotumida',\n",
       " 'Globorotalia multicamerata',\n",
       " 'Globorotalia multicamerata _T',\n",
       " 'Globorotalia multicamerata _T_',\n",
       " 'Globorotalia plesiotumida _B_ _M13b_',\n",
       " 'Globorotalia plesiotumida _T',\n",
       " 'Globorotalia plesiotumida _T_',\n",
       " 'Globorotalia pseudomiocenica _T_ _PL6',\n",
       " 'Globorotalia pseudomiocenica _T_ _PL6_',\n",
       " 'Globorotalia puncticulata',\n",
       " 'Globorotalia scitula',\n",
       " 'Globorotalia scitula (dex)',\n",
       " 'Globorotalia scitula (sin)',\n",
       " 'Globorotalia tosaensis',\n",
       " 'Globorotalia tosaensis _T and B_ _Pt1b',\n",
       " 'Globorotalia tosaensis _T and B_ _Pt1b_',\n",
       " 'Globorotalia truncatulinoides',\n",
       " 'Globorotalia truncatulinoides (dex)',\n",
       " 'Globorotalia truncatulinoides (sin)',\n",
       " 'Globorotalia truncatulinoides _B',\n",
       " 'Globorotalia truncatulinoides _B_',\n",
       " 'Globorotalia tumida',\n",
       " 'Globorotalia tumida _B_ _PL1a_',\n",
       " 'Globoturborotalita apertura _T and B',\n",
       " 'Globoturborotalita apertura _T and B_',\n",
       " 'Globoturborotalita decoraperta _T and B',\n",
       " 'Globoturborotalita decoraperta _T and B_',\n",
       " 'Globoturborotalita rubescens',\n",
       " 'Globoturborotalita tenella',\n",
       " 'Group Abundance',\n",
       " 'Group abundance',\n",
       " 'Group abundance (%)',\n",
       " 'Hole',\n",
       " 'Label ID',\n",
       " 'Neogloboquadrina acostaensis',\n",
       " 'Neogloboquadrina acostaensis (dextral)',\n",
       " 'Neogloboquadrina atlantica (dex)',\n",
       " 'Neogloboquadrina atlantica (sin)',\n",
       " 'Neogloboquadrina cf. pachyderma',\n",
       " 'Neogloboquadrina dutertrei',\n",
       " 'Neogloboquadrina humerosa',\n",
       " 'Neogloboquadrina incompta (dextral)',\n",
       " 'Neogloboquadrina nympha',\n",
       " 'Neogloboquadrina pachyderma (dex)',\n",
       " 'Neogloboquadrina pachyderma (sin)',\n",
       " 'Neogloboquadrina pachyderma (sinistral)',\n",
       " 'Neogloboquadrina pachyderma(dex)',\n",
       " 'Orbulina universa',\n",
       " 'PF Preservation',\n",
       " 'PF group abundance',\n",
       " 'PF preservation',\n",
       " 'Preservation',\n",
       " 'Pteropod group abundance',\n",
       " 'Pulleniatina coiling (dextral)',\n",
       " 'Pulleniatina coiling (sinistral)',\n",
       " 'Pulleniatina finalis',\n",
       " 'Pulleniatina finalis _B',\n",
       " 'Pulleniatina finalis _B_',\n",
       " 'Pulleniatina obliquiloculata',\n",
       " 'Pulleniatina obliquiloculata (D)',\n",
       " 'Pulleniatina praecursor',\n",
       " 'Pulleniatina praespectabilis',\n",
       " 'Pulleniatina primalis  _Tand B',\n",
       " 'Pulleniatina primalis  _Tand B_',\n",
       " 'Sample',\n",
       " 'Sample comment',\n",
       " 'Section',\n",
       " 'Site',\n",
       " 'Sphaeroidinella dahiscens sensu lato',\n",
       " 'Sphaeroidinella dehiscens',\n",
       " 'Sphaeroidinella dehiscens s.l.',\n",
       " 'Sphaeroidinella dehiscens sensu lato _B_',\n",
       " 'Sphaeroidinellopsis kochi _T',\n",
       " 'Sphaeroidinellopsis kochi _T_',\n",
       " 'Sphaeroidinellopsis seminulina',\n",
       " 'Sphaeroidinellopsis seminulina _T_ _PL4',\n",
       " 'Sphaeroidinellopsis seminulina _T_ _PL4_',\n",
       " 'Sphaeroidinellopsis subdehiscens',\n",
       " 'Top Depth [m]',\n",
       " 'Top Depth[m] [m]',\n",
       " 'Top [cm]',\n",
       " 'Top depth [m]',\n",
       " 'Top[cm] [cm]',\n",
       " 'Turborotalita humilis',\n",
       " 'Turborotalita quinqueloba',\n",
       " 'Type',\n",
       " 'Type (lower zone)',\n",
       " 'Upper boundary age av. [Ma]',\n",
       " 'Zone author (year)',\n",
       " 'Zone group',\n",
       " 'Zone name',\n",
       " 'Zone name (short)',\n",
       " 'pc_abundance_name_mode',\n",
       " 'pc_fossil_group',\n",
       " 'pc_fossil_name',\n",
       " 'physical_constituent_name'}"
      ]
     },
     "execution_count": 10,
     "metadata": {},
     "output_type": "execute_result"
    }
   ],
   "source": [
    "columns"
   ]
  },
  {
   "cell_type": "markdown",
   "id": "35c7a607-e2c1-47b7-9674-031bd627a2d9",
   "metadata": {},
   "source": [
    "separate taxa names from other headers"
   ]
  },
  {
   "cell_type": "code",
   "execution_count": 11,
   "id": "d0873975-b54e-42fb-a979-05fef12e24fe",
   "metadata": {},
   "outputs": [],
   "source": [
    "taxa_columns = {\n",
    " 'Beella digitata',\n",
    " 'Candeina nitida',\n",
    " 'Dentoglobigerina altispira',\n",
    " 'Dentoglobigerina altispira _T_ _PL5',\n",
    " 'Dentoglobigerina altispira _T_ _PL5_',\n",
    " 'Dextral:Sinistral _P. obliquiloculata_',\n",
    " 'Dextral:Sinistral _P. praecursor_',\n",
    " 'Dextral:Sinistral _P. primalis_',\n",
    " 'Globigerina apertura',\n",
    " 'Globigerina bulloides',\n",
    " 'Globigerina calida',\n",
    " 'Globigerina cf. woodi',\n",
    " 'Globigerina decoraperta',\n",
    " 'Globigerina falconensis',\n",
    " 'Globigerina nepenthes',\n",
    " 'Globigerinella aequilateralis',\n",
    " 'Globigerinella calida',\n",
    " 'Globigerinella calida _B',\n",
    " 'Globigerinella calida _B_',\n",
    " 'Globigerinella obesa',\n",
    " 'Globigerinella siphonifera',\n",
    " 'Globigerinita glutinata',\n",
    " 'Globigerinita parkerae',\n",
    " 'Globigerinita uvula',\n",
    " 'Globigerinoides bulloideus',\n",
    " 'Globigerinoides conglobatus',\n",
    " 'Globigerinoides extremus',\n",
    " 'Globigerinoides extremus _T and B',\n",
    " 'Globigerinoides extremus _T and B_',\n",
    " 'Globigerinoides fistulosus',\n",
    " 'Globigerinoides obliquus _T',\n",
    " 'Globigerinoides obliquus _T_',\n",
    " 'Globigerinoides quadrilobatus',\n",
    " 'Globigerinoides ruber',\n",
    " 'Globigerinoides ruber (pink)',\n",
    " 'Globigerinoides ruber (white)',\n",
    " 'Globigerinoides ruber _pink_ T',\n",
    " 'Globigerinoides ruber _pink_ _T_',\n",
    " 'Globigerinoides sacculifer',\n",
    " 'Globigerinoides sacculifer (without sack)',\n",
    " 'Globigerinoides tenellus',\n",
    " 'Globigerinoides trilobus',\n",
    " 'Globigerinoidesella fistulosa _T and B_ _Pt1a',\n",
    " 'Globigerinoidesella fistulosa _T and B_ _Pt1a_',\n",
    " 'Globoconella miozea',\n",
    " 'Globorotalia (Globoconella) inflata',\n",
    " 'Globorotalia (Globorotalia) tumida tumida',\n",
    " 'Globorotalia (Hirsutella) hirsuta',\n",
    " 'Globorotalia (Hirsutella) scitula',\n",
    " 'Globorotalia (Truncorotalia) crossaformis',\n",
    " 'Globorotalia (Truncorotalia) truncatulinoides',\n",
    " 'Globorotalia anfracta',\n",
    " 'Globorotalia cf. crassula',\n",
    " 'Globorotalia crassaformis',\n",
    " 'Globorotalia crassaformis s.l. (dex)',\n",
    " 'Globorotalia crassaformis s.l. (sin)',\n",
    " 'Globorotalia crassaformis sensu lato',\n",
    " 'Globorotalia flexuosa',\n",
    " 'Globorotalia flexuosa _T and B_',\n",
    " 'Globorotalia hessi',\n",
    " 'Globorotalia hessi _B_',\n",
    " 'Globorotalia hirsuta',\n",
    " 'Globorotalia hirsuta (dex)',\n",
    " 'Globorotalia hirsuta (sin)',\n",
    " 'Globorotalia inflata',\n",
    " 'Globorotalia limbata _B',\n",
    " 'Globorotalia limbata _B_',\n",
    " 'Globorotalia limbata _T_',\n",
    " 'Globorotalia margaritae',\n",
    " 'Globorotalia margaritae _T and B_ _PL3',\n",
    " 'Globorotalia margaritae _T and B_ _PL3_',\n",
    " 'Globorotalia menardii',\n",
    " 'Globorotalia menardii (dex)',\n",
    " 'Globorotalia menardii (sin)',\n",
    " 'Globorotalia miocenica',\n",
    " 'Globorotalia miotumida',\n",
    " 'Globorotalia multicamerata',\n",
    " 'Globorotalia multicamerata _T',\n",
    " 'Globorotalia multicamerata _T_',\n",
    " 'Globorotalia plesiotumida _B_ _M13b_',\n",
    " 'Globorotalia plesiotumida _T',\n",
    " 'Globorotalia plesiotumida _T_',\n",
    " 'Globorotalia pseudomiocenica _T_ _PL6',\n",
    " 'Globorotalia pseudomiocenica _T_ _PL6_',\n",
    " 'Globorotalia puncticulata',\n",
    " 'Globorotalia scitula',\n",
    " 'Globorotalia scitula (dex)',\n",
    " 'Globorotalia scitula (sin)',\n",
    " 'Globorotalia tosaensis',\n",
    " 'Globorotalia tosaensis _T and B_ _Pt1b',\n",
    " 'Globorotalia tosaensis _T and B_ _Pt1b_',\n",
    " 'Globorotalia truncatulinoides',\n",
    " 'Globorotalia truncatulinoides (dex)',\n",
    " 'Globorotalia truncatulinoides (sin)',\n",
    " 'Globorotalia truncatulinoides _B',\n",
    " 'Globorotalia truncatulinoides _B_',\n",
    " 'Globorotalia tumida',\n",
    " 'Globorotalia tumida _B_ _PL1a_',\n",
    " 'Globoturborotalita apertura _T and B',\n",
    " 'Globoturborotalita apertura _T and B_',\n",
    " 'Globoturborotalita decoraperta _T and B',\n",
    " 'Globoturborotalita decoraperta _T and B_',\n",
    " 'Globoturborotalita rubescens',\n",
    " 'Globoturborotalita tenella',\n",
    " 'Neogloboquadrina acostaensis',\n",
    " 'Neogloboquadrina acostaensis (dextral)',\n",
    " 'Neogloboquadrina atlantica (dex)',\n",
    " 'Neogloboquadrina atlantica (sin)',\n",
    " 'Neogloboquadrina cf. pachyderma',\n",
    " 'Neogloboquadrina dutertrei',\n",
    " 'Neogloboquadrina humerosa',\n",
    " 'Neogloboquadrina incompta (dextral)',\n",
    " 'Neogloboquadrina nympha',\n",
    " 'Neogloboquadrina pachyderma (dex)',\n",
    " 'Neogloboquadrina pachyderma (sin)',\n",
    " 'Neogloboquadrina pachyderma (sinistral)',\n",
    " 'Neogloboquadrina pachyderma(dex)',\n",
    " 'Orbulina universa',\n",
    " 'Pulleniatina coiling (dextral)',\n",
    " 'Pulleniatina coiling (sinistral)',\n",
    " 'Pulleniatina finalis',\n",
    " 'Pulleniatina finalis _B',\n",
    " 'Pulleniatina finalis _B_',\n",
    " 'Pulleniatina obliquiloculata',\n",
    " 'Pulleniatina obliquiloculata (D)',\n",
    " 'Pulleniatina praecursor',\n",
    " 'Pulleniatina praespectabilis',\n",
    " 'Pulleniatina primalis  _Tand B',\n",
    " 'Pulleniatina primalis  _Tand B_',\n",
    " 'Sphaeroidinella dahiscens sensu lato',\n",
    " 'Sphaeroidinella dehiscens',\n",
    " 'Sphaeroidinella dehiscens s.l.',\n",
    " 'Sphaeroidinella dehiscens sensu lato _B_',\n",
    " 'Sphaeroidinellopsis kochi _T',\n",
    " 'Sphaeroidinellopsis kochi _T_',\n",
    " 'Sphaeroidinellopsis seminulina',\n",
    " 'Sphaeroidinellopsis seminulina _T_ _PL4',\n",
    " 'Sphaeroidinellopsis seminulina _T_ _PL4_',\n",
    " 'Sphaeroidinellopsis subdehiscens',\n",
    " 'Turborotalita humilis',\n",
    " 'Turborotalita quinqueloba',\n",
    "}"
   ]
  },
  {
   "cell_type": "code",
   "execution_count": 12,
   "id": "74b94b27-01e3-4736-950e-f49d4d5c354b",
   "metadata": {},
   "outputs": [
    {
     "data": {
      "text/plain": [
       "141"
      ]
     },
     "execution_count": 12,
     "metadata": {},
     "output_type": "execute_result"
    }
   ],
   "source": [
    "len(taxa_columns)"
   ]
  },
  {
   "cell_type": "code",
   "execution_count": 13,
   "id": "7978f7de-7d9c-49ba-8a19-f8331a311f3c",
   "metadata": {},
   "outputs": [
    {
     "data": {
      "text/plain": [
       "{'A/W',\n",
       " 'Additional zone name',\n",
       " 'Additional zone name (short)',\n",
       " 'Bottom Depth [m]',\n",
       " 'Bottom Depth[m] [m]',\n",
       " 'Bottom [cm]',\n",
       " 'Bottom depth [m]',\n",
       " 'Bottom[cm] [cm]',\n",
       " 'Comment',\n",
       " 'Comment (general)',\n",
       " 'Comments',\n",
       " 'Core',\n",
       " 'Core-Sect',\n",
       " 'Datum name',\n",
       " 'Exp',\n",
       " 'Extra Sample ID Data',\n",
       " 'Fragmentation',\n",
       " 'Fragmentation rank [auto-pop]',\n",
       " 'Genus/species (upper zone)',\n",
       " 'Genus/species lower zone)',\n",
       " 'Group Abundance',\n",
       " 'Group abundance',\n",
       " 'Group abundance (%)',\n",
       " 'Hole',\n",
       " 'Label ID',\n",
       " 'PF Preservation',\n",
       " 'PF group abundance',\n",
       " 'PF preservation',\n",
       " 'Preservation',\n",
       " 'Pteropod group abundance',\n",
       " 'Sample',\n",
       " 'Sample comment',\n",
       " 'Section',\n",
       " 'Site',\n",
       " 'Top Depth [m]',\n",
       " 'Top Depth[m] [m]',\n",
       " 'Top [cm]',\n",
       " 'Top depth [m]',\n",
       " 'Top[cm] [cm]',\n",
       " 'Type',\n",
       " 'Type (lower zone)',\n",
       " 'Upper boundary age av. [Ma]',\n",
       " 'Zone author (year)',\n",
       " 'Zone group',\n",
       " 'Zone name',\n",
       " 'Zone name (short)',\n",
       " 'pc_abundance_name_mode',\n",
       " 'pc_fossil_group',\n",
       " 'pc_fossil_name',\n",
       " 'physical_constituent_name'}"
      ]
     },
     "execution_count": 13,
     "metadata": {},
     "output_type": "execute_result"
    }
   ],
   "source": [
    "nontaxa_columns = columns - taxa_columns\n",
    "\n",
    "nontaxa_columns"
   ]
  },
  {
   "cell_type": "code",
   "execution_count": 14,
   "id": "2cdb4c23-bdd6-4975-83ce-69e965be77a9",
   "metadata": {},
   "outputs": [
    {
     "data": {
      "text/plain": [
       "50"
      ]
     },
     "execution_count": 14,
     "metadata": {},
     "output_type": "execute_result"
    }
   ],
   "source": [
    "len(nontaxa_columns)"
   ]
  },
  {
   "cell_type": "markdown",
   "id": "0ff269b8-9656-45d5-8619-0108a24733b5",
   "metadata": {
    "tags": []
   },
   "source": [
    "## create taxa and non-taxa file"
   ]
  },
  {
   "cell_type": "markdown",
   "id": "4e8bff98-4362-4b90-a99c-81473ee383ca",
   "metadata": {},
   "source": [
    "taxa csv"
   ]
  },
  {
   "cell_type": "code",
   "execution_count": 15,
   "id": "439ee29c-65d1-4e3d-8a52-4d0ebc992dce",
   "metadata": {},
   "outputs": [
    {
     "name": "stdout",
     "output_type": "stream",
     "text": [
      "(141, 1)\n"
     ]
    },
    {
     "data": {
      "text/html": [
       "<div>\n",
       "<style scoped>\n",
       "    .dataframe tbody tr th:only-of-type {\n",
       "        vertical-align: middle;\n",
       "    }\n",
       "\n",
       "    .dataframe tbody tr th {\n",
       "        vertical-align: top;\n",
       "    }\n",
       "\n",
       "    .dataframe thead th {\n",
       "        text-align: right;\n",
       "    }\n",
       "</style>\n",
       "<table border=\"1\" class=\"dataframe\">\n",
       "  <thead>\n",
       "    <tr style=\"text-align: right;\">\n",
       "      <th></th>\n",
       "      <th>verbatim_name</th>\n",
       "    </tr>\n",
       "  </thead>\n",
       "  <tbody>\n",
       "    <tr>\n",
       "      <th>77</th>\n",
       "      <td>Beella digitata</td>\n",
       "    </tr>\n",
       "    <tr>\n",
       "      <th>29</th>\n",
       "      <td>Candeina nitida</td>\n",
       "    </tr>\n",
       "    <tr>\n",
       "      <th>51</th>\n",
       "      <td>Dentoglobigerina altispira</td>\n",
       "    </tr>\n",
       "    <tr>\n",
       "      <th>76</th>\n",
       "      <td>Dentoglobigerina altispira _T_ _PL5</td>\n",
       "    </tr>\n",
       "    <tr>\n",
       "      <th>96</th>\n",
       "      <td>Dentoglobigerina altispira _T_ _PL5_</td>\n",
       "    </tr>\n",
       "  </tbody>\n",
       "</table>\n",
       "</div>"
      ],
      "text/plain": [
       "                           verbatim_name\n",
       "77                       Beella digitata\n",
       "29                       Candeina nitida\n",
       "51            Dentoglobigerina altispira\n",
       "76   Dentoglobigerina altispira _T_ _PL5\n",
       "96  Dentoglobigerina altispira _T_ _PL5_"
      ]
     },
     "execution_count": 15,
     "metadata": {},
     "output_type": "execute_result"
    }
   ],
   "source": [
    "taxa_df = pd.DataFrame(taxa_columns, columns=['verbatim_name'])\n",
    "taxa_df.sort_values('verbatim_name', inplace=True)\n",
    "\n",
    "print_df(taxa_df)"
   ]
  },
  {
   "cell_type": "code",
   "execution_count": 16,
   "id": "9c34c9ba-911b-4038-abbe-bc400cece164",
   "metadata": {},
   "outputs": [],
   "source": [
    "path = Path('..', 'processed_data', 'drafts', 'taxa_list.csv')\n",
    "taxa_df.to_csv(path, index=False)"
   ]
  },
  {
   "cell_type": "markdown",
   "id": "3ba9a2a7-c331-4d26-ba33-abd0f6f51f35",
   "metadata": {},
   "source": [
    "non-taxa csv"
   ]
  },
  {
   "cell_type": "code",
   "execution_count": 17,
   "id": "636ba39d-f50d-4560-a334-7868f9d68d4c",
   "metadata": {},
   "outputs": [
    {
     "name": "stdout",
     "output_type": "stream",
     "text": [
      "(50, 1)\n"
     ]
    },
    {
     "data": {
      "text/html": [
       "<div>\n",
       "<style scoped>\n",
       "    .dataframe tbody tr th:only-of-type {\n",
       "        vertical-align: middle;\n",
       "    }\n",
       "\n",
       "    .dataframe tbody tr th {\n",
       "        vertical-align: top;\n",
       "    }\n",
       "\n",
       "    .dataframe thead th {\n",
       "        text-align: right;\n",
       "    }\n",
       "</style>\n",
       "<table border=\"1\" class=\"dataframe\">\n",
       "  <thead>\n",
       "    <tr style=\"text-align: right;\">\n",
       "      <th></th>\n",
       "      <th>field</th>\n",
       "    </tr>\n",
       "  </thead>\n",
       "  <tbody>\n",
       "    <tr>\n",
       "      <th>46</th>\n",
       "      <td>A/W</td>\n",
       "    </tr>\n",
       "    <tr>\n",
       "      <th>25</th>\n",
       "      <td>Additional zone name</td>\n",
       "    </tr>\n",
       "    <tr>\n",
       "      <th>49</th>\n",
       "      <td>Additional zone name (short)</td>\n",
       "    </tr>\n",
       "    <tr>\n",
       "      <th>45</th>\n",
       "      <td>Bottom Depth [m]</td>\n",
       "    </tr>\n",
       "    <tr>\n",
       "      <th>16</th>\n",
       "      <td>Bottom Depth[m] [m]</td>\n",
       "    </tr>\n",
       "  </tbody>\n",
       "</table>\n",
       "</div>"
      ],
      "text/plain": [
       "                           field\n",
       "46                           A/W\n",
       "25          Additional zone name\n",
       "49  Additional zone name (short)\n",
       "45              Bottom Depth [m]\n",
       "16           Bottom Depth[m] [m]"
      ]
     },
     "execution_count": 17,
     "metadata": {},
     "output_type": "execute_result"
    }
   ],
   "source": [
    "non_taxa_df = pd.DataFrame(nontaxa_columns, columns=['field'])\n",
    "non_taxa_df.sort_values('field', inplace=True)\n",
    "\n",
    "print_df(non_taxa_df)"
   ]
  },
  {
   "cell_type": "code",
   "execution_count": 18,
   "id": "729f63d4-127e-434a-9bf3-592d41cb14e4",
   "metadata": {},
   "outputs": [],
   "source": [
    "path = Path('..', 'processed_data', 'drafts', 'nontaxa_list.csv')\n",
    "non_taxa_df.to_csv(path, index=False)"
   ]
  },
  {
   "cell_type": "markdown",
   "id": "7a36ae29-c7a3-4b09-b31f-f2b5ede98e1a",
   "metadata": {
    "tags": []
   },
   "source": [
    "## Normalize headers"
   ]
  },
  {
   "cell_type": "code",
   "execution_count": 19,
   "id": "d99e78a3-70ea-46c5-8919-a082dd13a4e9",
   "metadata": {},
   "outputs": [],
   "source": [
    "for path in paths:\n",
    "    df = pd.read_csv(path, dtype=str)    \n",
    "    cols = df.columns\n",
    "    \n",
    "    variants = ['Bottom Depth [m]', 'Bottom depth [m]', 'Bottom Depth[m] [m]']\n",
    "    replacement = 'Bottom Depth [m]'\n",
    "    cols = normalize_columns(variants, replacement, cols)\n",
    "\n",
    "    variants = ['Bottom [cm]', 'Bottom[cm] [cm]']\n",
    "    replacement = 'Bottom [cm]'\n",
    "    cols = normalize_columns(variants, replacement, cols)\n",
    "\n",
    "    \n",
    "    variants = ['Label ID', 'Sample']\n",
    "    replacement = 'Sample'\n",
    "    cols = normalize_columns(variants, replacement, cols)\n",
    "\n",
    "    variants = ['Top Depth [m]', 'Top depth [m]', 'Top Depth[m] [m]']\n",
    "    replacement = 'Top Depth [m]'\n",
    "    cols = normalize_columns(variants, replacement, cols)\n",
    "\n",
    "    variants = ['Top [cm]', 'Top[cm] [cm]']\n",
    "    replacement = 'Top [cm]'\n",
    "    cols = normalize_columns(variants, replacement, cols)\n",
    "    \n",
    "    variants = ['Comment', 'Comment (general)', 'Comments', 'Sample comment']\n",
    "    replacement = 'Comment'\n",
    "    cols = normalize_columns(variants, replacement, cols)\n",
    "    \n",
    "    variants = ['Genus/species lower zone)']\n",
    "    replacement = 'Genus/species (lower zone)'\n",
    "    cols = normalize_columns(variants, replacement, cols)\n",
    "    \n",
    "    variants = ['Group Abundance', 'Group abundance', 'Group abundance (%)']\n",
    "    replacement = 'Group Abundance'\n",
    "    cols = normalize_columns(variants, replacement, cols)\n",
    "    \n",
    "    variants = ['PF Preservation', 'PF preservation']\n",
    "    replacement = 'PF preservation'\n",
    "    cols = normalize_columns(variants, replacement, cols)\n",
    "    \n",
    "    df.columns = cols \n",
    "    df.to_csv(path, index=False)\n"
   ]
  },
  {
   "cell_type": "markdown",
   "id": "2301d154-bcf7-498e-a53d-22d4f3c154d4",
   "metadata": {
    "tags": []
   },
   "source": [
    "## remove bracket text"
   ]
  },
  {
   "cell_type": "code",
   "execution_count": 20,
   "id": "15ee2cbc-1606-46c4-9aab-df0fed3d3e2e",
   "metadata": {},
   "outputs": [],
   "source": [
    "for path in paths:\n",
    "    df = pd.read_csv(path, dtype=str)\n",
    "    \n",
    "    df = remove_bracket_text(df)\n",
    "    \n",
    "    df.to_csv(path, index=False)"
   ]
  },
  {
   "cell_type": "markdown",
   "id": "9b8d5fb7-0647-4e69-8c47-eeed6c901306",
   "metadata": {},
   "source": [
    "## convert sample column to  Exp...A/W colums"
   ]
  },
  {
   "cell_type": "code",
   "execution_count": 21,
   "id": "6c772dac-baaa-4341-9659-507cb0381522",
   "metadata": {},
   "outputs": [],
   "source": [
    "for path in paths:\n",
    "    df = pd.read_csv(path, dtype=str)   \n",
    "    \n",
    "    df = normalize_expedition_section_cols(df)\n",
    "    \n",
    "    df.to_csv(path, index=False) "
   ]
  },
  {
   "cell_type": "markdown",
   "id": "ab453e2b-462f-4c8f-ad5f-5a50f9e89246",
   "metadata": {},
   "source": [
    "## check mandatory columns"
   ]
  },
  {
   "cell_type": "code",
   "execution_count": 22,
   "id": "9c6cbced-57f8-4481-902d-bfc14e22cff6",
   "metadata": {},
   "outputs": [],
   "source": [
    "required_columns = {\n",
    " 'A/W',\n",
    " 'Bottom [cm]',\n",
    " 'Bottom Depth [m]',\n",
    " 'Core',\n",
    " 'Exp',\n",
    " 'Hole',\n",
    " 'Sample',\n",
    " 'Section',\n",
    " 'Site',\n",
    " 'Top [cm]',\n",
    " 'Top Depth [m]',\n",
    " 'Type'\n",
    "}"
   ]
  },
  {
   "cell_type": "code",
   "execution_count": 23,
   "id": "b471b3f1-2b27-4e68-a58b-27c27b1e42c0",
   "metadata": {},
   "outputs": [],
   "source": [
    "for path in paths:\n",
    "    df = pd.read_csv(path, dtype=str)    \n",
    "    cols = set(df.columns)\n",
    "    diff = required_columns - cols\n",
    "    \n",
    "    if(len(diff) > 0):\n",
    "        print(path)\n",
    "        print(required_columns - cols)\n",
    "    "
   ]
  },
  {
   "cell_type": "code",
   "execution_count": null,
   "id": "feae0a31-be50-4a16-8a73-41ddab608cc3",
   "metadata": {},
   "outputs": [],
   "source": []
  }
 ],
 "metadata": {
  "kernelspec": {
   "display_name": "Python 3 (ipykernel)",
   "language": "python",
   "name": "python3"
  },
  "language_info": {
   "codemirror_mode": {
    "name": "ipython",
    "version": 3
   },
   "file_extension": ".py",
   "mimetype": "text/x-python",
   "name": "python",
   "nbconvert_exporter": "python",
   "pygments_lexer": "ipython3",
   "version": "3.10.2"
  }
 },
 "nbformat": 4,
 "nbformat_minor": 5
}
