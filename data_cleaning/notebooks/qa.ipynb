{
 "cells": [
  {
   "cell_type": "markdown",
   "id": "431ec010-bb64-4385-ae67-21dd6727a0cc",
   "metadata": {},
   "source": [
    "# Data Cleaning with Pandas and Jupyter Notebooks"
   ]
  },
  {
   "cell_type": "code",
   "execution_count": 1,
   "id": "a889da19-b8ff-4f06-a2ae-f9a4ce26eb21",
   "metadata": {},
   "outputs": [],
   "source": [
    "import pandas as pd\n",
    "from datetime import date\n",
    "from pathlib import Path "
   ]
  },
  {
   "cell_type": "code",
   "execution_count": 2,
   "id": "599d94d9-381f-44db-9c1a-261f3ec48082",
   "metadata": {},
   "outputs": [],
   "source": [
    "import sys\n",
    "sys.path.append(str(Path.cwd().parent))\n",
    "\n",
    "from scripts.normalize_data import (\n",
    "    print_df\n",
    ")"
   ]
  },
  {
   "cell_type": "markdown",
   "id": "c4010f87-3c43-47dc-894e-9ffd50758184",
   "metadata": {},
   "source": [
    "Use Path and rglob to get all the cvs in `data_clean` directory."
   ]
  },
  {
   "cell_type": "code",
   "execution_count": 3,
   "id": "38dd3712-9a11-4f43-90af-feabbe8c5b77",
   "metadata": {},
   "outputs": [
    {
     "data": {
      "text/plain": [
       "[PosixPath('../processed_data/clean_data/Micropal_CSV_1/318_U1355A_Planktic_Forams.csv'),\n",
       " PosixPath('../processed_data/clean_data/Micropal_CSV_1/363-U1483A-planktic_forams.csv'),\n",
       " PosixPath('../processed_data/clean_data/Micropal_CSV_1/318_U1359A_Planktic_Forams.csv'),\n",
       " PosixPath('../processed_data/clean_data/Micropal_CSV_1/318_U1359D_Planktic_Forams.csv'),\n",
       " PosixPath('../processed_data/clean_data/Micropal_CSV_2/362_U1480E_planktic_forams.csv'),\n",
       " PosixPath('../processed_data/clean_data/Micropal_CSV_2/350_U1436B_planktic_forams.csv'),\n",
       " PosixPath('../processed_data/clean_data/Micropal_CSV_2/346_U1422A_planktic_forams.csv'),\n",
       " PosixPath('../processed_data/clean_data/Micropal_CSV_3/339_planktic_forams_U1387C.csv'),\n",
       " PosixPath('../processed_data/clean_data/Micropal_CSV_3/323_U1343B_planktic_forams.csv'),\n",
       " PosixPath('../processed_data/clean_data/Micropal_CSV_3/330_planktic_forams_U1374A.csv')]"
      ]
     },
     "execution_count": 3,
     "metadata": {},
     "output_type": "execute_result"
    }
   ],
   "source": [
    "paths = list(Path('..', 'processed_data', 'clean_data').rglob('*.csv'))\n",
    "paths"
   ]
  },
  {
   "cell_type": "code",
   "execution_count": 4,
   "id": "6a3be3e0-b7c1-4074-b632-91f55e2a651e",
   "metadata": {},
   "outputs": [
    {
     "data": {
      "text/plain": [
       "10"
      ]
     },
     "execution_count": 4,
     "metadata": {},
     "output_type": "execute_result"
    }
   ],
   "source": [
    "len(paths)"
   ]
  },
  {
   "cell_type": "markdown",
   "id": "4a4b829e-a326-4e8c-a1b9-9940b4d16f04",
   "metadata": {},
   "source": [
    "## get taxa counts"
   ]
  },
  {
   "cell_type": "code",
   "execution_count": 5,
   "id": "43face39-858c-4a76-8fcf-6b7dc7d85058",
   "metadata": {},
   "outputs": [],
   "source": [
    "path = Path('..', 'processed_data',  'drafts', 'taxa_list.csv')\n",
    "taxa_df = pd.read_csv(path)"
   ]
  },
  {
   "cell_type": "code",
   "execution_count": 6,
   "id": "a9dccb31-7549-4f40-8ea5-7171a868be4a",
   "metadata": {},
   "outputs": [
    {
     "data": {
      "text/plain": [
       "{'Globigerina bulloides': 7,\n",
       " 'Neogloboquadrina cf. pachyderma': 2,\n",
       " 'Dentoglobigerina altispira _T_ _PL5': 1,\n",
       " 'Dentoglobigerina altispira _T_ _PL5_': 1,\n",
       " 'Dextral:Sinistral _P. obliquiloculata_': 1,\n",
       " 'Dextral:Sinistral _P. praecursor_': 1,\n",
       " 'Dextral:Sinistral _P. primalis_': 1,\n",
       " 'Globigerinella calida _B': 1,\n",
       " 'Globigerinella calida _B_': 1,\n",
       " 'Globigerinoides extremus _T and B': 1,\n",
       " 'Globigerinoides extremus _T and B_': 1,\n",
       " 'Globigerinoides obliquus _T': 1,\n",
       " 'Globigerinoides obliquus _T_': 1,\n",
       " 'Globigerinoides ruber _pink_ T': 1,\n",
       " 'Globigerinoides ruber _pink_ _T_': 1,\n",
       " 'Globigerinoidesella fistulosa _T and B_ _Pt1a': 1,\n",
       " 'Globigerinoidesella fistulosa _T and B_ _Pt1a_': 1,\n",
       " 'Globorotalia flexuosa _T and B_': 1,\n",
       " 'Globorotalia hessi _B_': 1,\n",
       " 'Globorotalia limbata _B': 1,\n",
       " 'Globorotalia limbata _B_': 1,\n",
       " 'Globorotalia limbata _T_': 1,\n",
       " 'Globorotalia margaritae _T and B_ _PL3': 1,\n",
       " 'Globorotalia margaritae _T and B_ _PL3_': 1,\n",
       " 'Globorotalia multicamerata _T': 1,\n",
       " 'Globorotalia multicamerata _T_': 1,\n",
       " 'Globorotalia plesiotumida _B_ _M13b_': 1,\n",
       " 'Globorotalia plesiotumida _T': 1,\n",
       " 'Globorotalia plesiotumida _T_': 1,\n",
       " 'Globorotalia pseudomiocenica _T_ _PL6': 1,\n",
       " 'Globorotalia pseudomiocenica _T_ _PL6_': 1,\n",
       " 'Globorotalia tosaensis _T and B_ _Pt1b': 1,\n",
       " 'Globorotalia tosaensis _T and B_ _Pt1b_': 1,\n",
       " 'Globorotalia truncatulinoides _B': 1,\n",
       " 'Globorotalia truncatulinoides _B_': 1,\n",
       " 'Globorotalia tumida': 3,\n",
       " 'Globorotalia tumida _B_ _PL1a_': 1,\n",
       " 'Globoturborotalita apertura _T and B': 1,\n",
       " 'Globoturborotalita apertura _T and B_': 1,\n",
       " 'Globoturborotalita decoraperta _T and B': 1,\n",
       " 'Globoturborotalita decoraperta _T and B_': 1,\n",
       " 'Globoturborotalita rubescens': 3,\n",
       " 'Pulleniatina finalis _B': 1,\n",
       " 'Pulleniatina finalis _B_': 1,\n",
       " 'Pulleniatina obliquiloculata': 3,\n",
       " 'Pulleniatina praecursor': 1,\n",
       " 'Pulleniatina praespectabilis': 1,\n",
       " 'Pulleniatina primalis  _Tand B': 1,\n",
       " 'Pulleniatina primalis  _Tand B_': 1,\n",
       " 'Sphaeroidinella dehiscens sensu lato _B_': 1,\n",
       " 'Sphaeroidinellopsis kochi _T': 1,\n",
       " 'Sphaeroidinellopsis kochi _T_': 1,\n",
       " 'Sphaeroidinellopsis seminulina _T_ _PL4': 1,\n",
       " 'Sphaeroidinellopsis seminulina _T_ _PL4_': 1,\n",
       " 'Globigerina cf. woodi': 1,\n",
       " 'Globoconella miozea': 1,\n",
       " 'Neogloboquadrina acostaensis': 1,\n",
       " 'Neogloboquadrina nympha': 1,\n",
       " 'Globigerinoides conglobatus': 4,\n",
       " 'Globigerinoides fistulosus': 1,\n",
       " 'Globorotalia crassaformis sensu lato': 1,\n",
       " 'Globorotalia flexuosa': 1,\n",
       " 'Globorotalia hessi': 1,\n",
       " 'Globorotalia tosaensis': 1,\n",
       " 'Neogloboquadrina acostaensis (dextral)': 1,\n",
       " 'Neogloboquadrina humerosa': 1,\n",
       " 'Pulleniatina coiling (dextral)': 1,\n",
       " 'Pulleniatina coiling (sinistral)': 1,\n",
       " 'Pulleniatina finalis': 1,\n",
       " 'Sphaeroidinella dahiscens sensu lato': 1,\n",
       " 'Candeina nitida': 1,\n",
       " 'Globigerina falconensis': 3,\n",
       " 'Globigerinella aequilateralis': 2,\n",
       " 'Globigerinella calida': 1,\n",
       " 'Globigerinella obesa': 1,\n",
       " 'Globigerinita glutinata': 2,\n",
       " 'Globigerinita parkerae': 1,\n",
       " 'Globigerinita uvula': 1,\n",
       " 'Globigerinoides bulloideus': 1,\n",
       " 'Globigerinoides ruber (pink)': 1,\n",
       " 'Globigerinoides ruber (white)': 2,\n",
       " 'Globigerinoides sacculifer': 3,\n",
       " 'Globigerinoides sacculifer (without sack)': 1,\n",
       " 'Globigerinoides tenellus': 1,\n",
       " 'Globigerinoides trilobus': 2,\n",
       " 'Globorotalia anfracta': 1,\n",
       " 'Globorotalia crassaformis': 1,\n",
       " 'Globorotalia hirsuta': 1,\n",
       " 'Globorotalia inflata': 2,\n",
       " 'Globorotalia menardii': 1,\n",
       " 'Globorotalia scitula': 1,\n",
       " 'Globorotalia truncatulinoides': 1,\n",
       " 'Neogloboquadrina dutertrei': 3,\n",
       " 'Neogloboquadrina incompta (dextral)': 1,\n",
       " 'Orbulina universa': 3,\n",
       " 'Sphaeroidinella dehiscens': 2,\n",
       " 'Neogloboquadrina pachyderma (sinistral)': 1,\n",
       " 'Beella digitata': 1,\n",
       " 'Dentoglobigerina altispira': 1,\n",
       " 'Globigerina apertura': 1,\n",
       " 'Globigerina calida': 1,\n",
       " 'Globigerina decoraperta': 1,\n",
       " 'Globigerina nepenthes': 1,\n",
       " 'Globigerinella siphonifera': 1,\n",
       " 'Globigerinoides extremus': 1,\n",
       " 'Globorotalia cf. crassula': 1,\n",
       " 'Globorotalia crassaformis s.l. (dex)': 1,\n",
       " 'Globorotalia crassaformis s.l. (sin)': 1,\n",
       " 'Globorotalia hirsuta (dex)': 1,\n",
       " 'Globorotalia hirsuta (sin)': 1,\n",
       " 'Globorotalia margaritae': 1,\n",
       " 'Globorotalia menardii (dex)': 1,\n",
       " 'Globorotalia menardii (sin)': 1,\n",
       " 'Globorotalia miocenica': 1,\n",
       " 'Globorotalia miotumida': 1,\n",
       " 'Globorotalia multicamerata': 1,\n",
       " 'Globorotalia puncticulata': 1,\n",
       " 'Globorotalia scitula (dex)': 1,\n",
       " 'Globorotalia scitula (sin)': 1,\n",
       " 'Globorotalia truncatulinoides (dex)': 1,\n",
       " 'Globorotalia truncatulinoides (sin)': 1,\n",
       " 'Globoturborotalita tenella': 1,\n",
       " 'Neogloboquadrina atlantica (dex)': 1,\n",
       " 'Neogloboquadrina atlantica (sin)': 1,\n",
       " 'Neogloboquadrina pachyderma (dex)': 1,\n",
       " 'Neogloboquadrina pachyderma (sin)': 2,\n",
       " 'Sphaeroidinellopsis seminulina': 1,\n",
       " 'Sphaeroidinellopsis subdehiscens': 1,\n",
       " 'Turborotalita humilis': 1,\n",
       " 'Turborotalita quinqueloba': 1,\n",
       " 'Neogloboquadrina pachyderma(dex)': 1,\n",
       " 'Globigerinoides quadrilobatus': 1,\n",
       " 'Globigerinoides ruber': 1,\n",
       " 'Globorotalia (Globoconella) inflata': 1,\n",
       " 'Globorotalia (Globorotalia) tumida tumida': 1,\n",
       " 'Globorotalia (Hirsutella) hirsuta': 1,\n",
       " 'Globorotalia (Hirsutella) scitula': 1,\n",
       " 'Globorotalia (Truncorotalia) crossaformis': 1,\n",
       " 'Globorotalia (Truncorotalia) truncatulinoides': 1,\n",
       " 'Pulleniatina obliquiloculata (D)': 1,\n",
       " 'Sphaeroidinella dehiscens s.l.': 1}"
      ]
     },
     "execution_count": 6,
     "metadata": {},
     "output_type": "execute_result"
    }
   ],
   "source": [
    "counts = {}\n",
    "\n",
    "for path in paths:\n",
    "\n",
    "    df = pd.read_csv(path, dtype=str, nrows=1)\n",
    "    columns = df.columns\n",
    "    \n",
    "    for taxon in taxa_df['verbatim_name']:\n",
    "        if taxon in columns:\n",
    "            if taxon in counts:\n",
    "                counts[taxon] += 1\n",
    "            else:\n",
    "                counts[taxon] = 1\n",
    "\n",
    "counts"
   ]
  },
  {
   "cell_type": "markdown",
   "id": "f09efb7f-402a-4b43-b376-80ab9e55d691",
   "metadata": {
    "tags": []
   },
   "source": [
    "## preview column values"
   ]
  },
  {
   "cell_type": "code",
   "execution_count": 7,
   "id": "3e273fc1-5073-407a-9797-2985ad936e37",
   "metadata": {},
   "outputs": [
    {
     "name": "stdout",
     "output_type": "stream",
     "text": [
      "\n",
      " Turborotalita quinqueloba ../processed_data/clean_data/Micropal_CSV_3/339_planktic_forams_U1387C.csv\n",
      "['D', 'R', 'F', 'A', 'P']\n"
     ]
    }
   ],
   "source": [
    "column= 'Neogloboquadrina pachyderma (dex)'\n",
    "\n",
    "for path in paths:\n",
    "\n",
    "    df = pd.read_csv(path, dtype=str) \n",
    "\n",
    "    if column in list(df.columns):\n",
    "        print('\\n', taxon, path)\n",
    "\n",
    "        df = df[[column]]\n",
    "        df.drop_duplicates(inplace=True)\n",
    "        df.dropna(inplace=True)\n",
    "\n",
    "        print(list(df[column].unique()))"
   ]
  },
  {
   "cell_type": "code",
   "execution_count": null,
   "id": "875078b0-8b79-471b-a0de-2c04c2fe1ae7",
   "metadata": {},
   "outputs": [],
   "source": []
  }
 ],
 "metadata": {
  "kernelspec": {
   "display_name": "Python 3 (ipykernel)",
   "language": "python",
   "name": "python3"
  },
  "language_info": {
   "codemirror_mode": {
    "name": "ipython",
    "version": 3
   },
   "file_extension": ".py",
   "mimetype": "text/x-python",
   "name": "python",
   "nbconvert_exporter": "python",
   "pygments_lexer": "ipython3",
   "version": "3.10.2"
  }
 },
 "nbformat": 4,
 "nbformat_minor": 5
}
